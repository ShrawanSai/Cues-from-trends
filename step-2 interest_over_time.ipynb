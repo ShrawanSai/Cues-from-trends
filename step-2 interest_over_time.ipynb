{
 "cells": [
  {
   "cell_type": "markdown",
   "metadata": {},
   "source": [
    "#### 2. Find the interest over time for the topic from trends"
   ]
  },
  {
   "cell_type": "code",
   "execution_count": 1,
   "metadata": {},
   "outputs": [],
   "source": [
    "import re\n",
    "import numpy as np\n",
    "import time\n",
    "import pandas as pd                        \n",
    "from pytrends.request import TrendReq\n",
    "#proxies=['https://34.203.233.13:80',]\n",
    "pytrends = TrendReq(hl='en-US', tz=530, timeout=(10,25), retries=2, backoff_factor=0.1)"
   ]
  },
  {
   "cell_type": "code",
   "execution_count": 2,
   "metadata": {},
   "outputs": [],
   "source": [
    "import matplotlib.pyplot as plt\n",
    "import numpy as np \n",
    "from sklearn.preprocessing import MinMaxScaler\n",
    "  \n",
    "# curve-fit() function imported from scipy \n",
    "from scipy.optimize import curve_fit \n",
    "%matplotlib inline"
   ]
  },
  {
   "cell_type": "code",
   "execution_count": 3,
   "metadata": {},
   "outputs": [],
   "source": [
    "hashtags = {'#1YearOfITABestJodiAshDeep',\n",
    " '#BJPSweepsGujarat',\n",
    " '#Bigil',\n",
    " '#BiharElectionResults',\n",
    " '#BiharElections2020',\n",
    " '#BiharResult',\n",
    " '#BoycottAmazon',\n",
    " '#Congress',\n",
    " '#DubbakaBypolls',\n",
    " '#IPLUnacademyVideo',\n",
    " '#IPLfinal',\n",
    " '#IrandamKuththu',\n",
    " '#MIvsDC',\n",
    " '#MadhyaPradeshbyelection',\n",
    " '#MouseHunt',\n",
    " '#PhotoThaakku',\n",
    " '#PushpaRajHuntBegins',\n",
    " '#ReleaseArnabVoiceOfSSR',\n",
    " '#TescoMealDeal',\n",
    " '#WorldScienceDay',\n",
    " '#ganapath',\n",
    " '#pspk27',\n",
    " '#tuesdayvibe'}\n",
    "\n",
    "topics = {'Armenia',\n",
    " 'Bihar Assembly',\n",
    " 'Burnol',\n",
    " 'EVMs',\n",
    " 'Exit',\n",
    " 'Harbhajan Singh',\n",
    " 'IK NO DI CHEEZ',\n",
    " 'India Today',\n",
    " 'Jaipur',\n",
    " 'Jharkhand',\n",
    " 'Mahagathbandhan',\n",
    " 'Mozambique',\n",
    " 'NDTV',\n",
    " 'Nitish',\n",
    " 'Only 20%',\n",
    " 'Owaisi',\n",
    " 'Rona',\n",
    " 'Shikhar Dhawan',\n",
    " 'SidNaaz Craze',\n",
    " 'Sira',\n",
    " 'Starc',\n",
    " 'Sushil Modi',\n",
    " 'Yogendra Yadav',\n",
    " 'bighit',\n",
    " 'good air movement'}\n",
    "\n",
    "twitter_stuff = hashtags.union(topics)\n",
    "\n"
   ]
  },
  {
   "cell_type": "code",
   "execution_count": 4,
   "metadata": {},
   "outputs": [],
   "source": [
    "df = pytrends.top_charts(2019, hl='en-US', tz=300, geo='IN')"
   ]
  },
  {
   "cell_type": "code",
   "execution_count": 5,
   "metadata": {},
   "outputs": [],
   "source": [
    "all_topics = twitter_stuff.union(set(list(df['title'])))\n",
    "all_topics = list(all_topics)"
   ]
  },
  {
   "cell_type": "code",
   "execution_count": null,
   "metadata": {},
   "outputs": [],
   "source": []
  },
  {
   "cell_type": "code",
   "execution_count": 6,
   "metadata": {},
   "outputs": [],
   "source": [
    "# Test function with coefficients as parameters \n",
    "def func(t, c0,c1,c2,c3): \n",
    "    return c0+c1*t-c2*np.sin(-c3*t)\n",
    "\n",
    "def no_of_days(x):\n",
    "    temp = [(x[i]-x[0]).days for i in range(len(x))]\n",
    "    return temp\n",
    "\n",
    "def get_slope(x,param):\n",
    "    slope = func(x[-1]+10,param[0],param[1],param[2],param[3]) - func(x[-1]+1,param[0],param[1],param[2],param[3])\n",
    "    return slope\n",
    "\n",
    "def pedict_next(x,param,y,n):\n",
    "    \n",
    "    y_n = np.empty(n)\n",
    "    y_p = [func(i,param[0],param[1],param[2],param[3]) for i in x]\n",
    "    \n",
    "    xpred = [x[-1]+i for i in range(1,11)]\n",
    "    ypred = [func(i,param[0],param[1],param[2],param[3]) for i in xpred]\n",
    "\n",
    "    \n",
    "    plt.plot(x,y,'b',label = 'Current Trend')\n",
    "    plt.plot(x,y_p,'r', label = 'Fitted Curve')\n",
    "    plt.plot(xpred,ypred,'r--', label = 'Prediction for next 10 days')\n",
    "    plt.legend()\n"
   ]
  },
  {
   "cell_type": "code",
   "execution_count": 7,
   "metadata": {},
   "outputs": [],
   "source": [
    "def trend_status(topic, plot = False):\n",
    "    kw_list = [topic]\n",
    "    pytrends.build_payload(kw_list, cat=0, timeframe='today 5-y', geo='IN', gprop='')\n",
    "    interest = pytrends.interest_over_time().tail(5)\n",
    "    interest = interest[interest.columns[0]]\n",
    "    \n",
    "    x = no_of_days(list(interest.index))\n",
    "    y = list(interest)\n",
    "    n = len(x)\n",
    "\n",
    "    guess = [100,0.01,100,0.01]\n",
    "    \n",
    "    param, param_cov = curve_fit(func, x, y,guess,maxfev = 100000) \n",
    "    \n",
    "    slope = get_slope(x,param)\n",
    "    \n",
    "    if plot:\n",
    "        pedict_next(x,param,y,n)\n",
    "    \n",
    "    return slope"
   ]
  },
  {
   "cell_type": "code",
   "execution_count": 22,
   "metadata": {},
   "outputs": [
    {
     "data": {
      "text/plain": [
       "125.80600951312226"
      ]
     },
     "execution_count": 22,
     "metadata": {},
     "output_type": "execute_result"
    },
    {
     "data": {
      "image/png": "[encoded data removed]",
      "text/plain": [
       "<Figure size 432x288 with 1 Axes>"
      ]
     },
     "metadata": {
      "needs_background": "light"
     },
     "output_type": "display_data"
    }
   ],
   "source": [
    "trend_status('Biden',plot = True)"
   ]
  },
  {
   "cell_type": "code",
   "execution_count": 21,
   "metadata": {},
   "outputs": [
    {
     "data": {
      "text/plain": [
       "21.644400785582548"
      ]
     },
     "execution_count": 21,
     "metadata": {},
     "output_type": "execute_result"
    },
    {
     "data": {
      "image/png": "[encoded data removed]",
      "text/plain": [
       "<Figure size 432x288 with 1 Axes>"
      ]
     },
     "metadata": {
      "needs_background": "light"
     },
     "output_type": "display_data"
    }
   ],
   "source": [
    "trend_status('Kamala Harris',plot = True)"
   ]
  },
  {
   "cell_type": "code",
   "execution_count": 23,
   "metadata": {},
   "outputs": [
    {
     "data": {
      "text/plain": [
       "5.0936015622716155"
      ]
     },
     "execution_count": 23,
     "metadata": {},
     "output_type": "execute_result"
    },
    {
     "data": {
      "image/png": "[encoded data removed]",
      "text/plain": [
       "<Figure size 432x288 with 1 Axes>"
      ]
     },
     "metadata": {
      "needs_background": "light"
     },
     "output_type": "display_data"
    }
   ],
   "source": [
    "trend_status('Bihar Exit Poll',plot = True)"
   ]
  },
  {
   "cell_type": "code",
   "execution_count": 11,
   "metadata": {},
   "outputs": [
    {
     "name": "stderr",
     "output_type": "stream",
     "text": [
      "C:\\Users\\msais\\Anaconda3\\envs\\gg\\lib\\site-packages\\scipy\\optimize\\minpack.py:808: OptimizeWarning: Covariance of the parameters could not be estimated\n",
      "  category=OptimizeWarning)\n"
     ]
    }
   ],
   "source": [
    "popularity = {}\n",
    "for title in all_topics:\n",
    "    temp = title\n",
    "    if title.startswith('#'):\n",
    "        title = title[1:]\n",
    "        title = re.findall(r'[A-Z](?:[a-z]+|[A-Z]*(?=[A-Z]|$))', title)\n",
    "        if len(title)<1: \n",
    "            continue\n",
    "        title = ' '.join(title)\n",
    "    try:\n",
    "        slope = trend_status(title)\n",
    "        popularity[temp] = slope\n",
    "    except Exception as e:\n",
    "        #print(e)\n",
    "        #print(title)\n",
    "        pass\n",
    "    \n",
    "    "
   ]
  },
  {
   "cell_type": "code",
   "execution_count": 12,
   "metadata": {},
   "outputs": [
    {
     "data": {
      "text/plain": [
       "{'India Today': -0.6430171171263162,\n",
       " '#BiharElections2020': -49.76765136936802,\n",
       " 'NDTV': -3.3863691647079577,\n",
       " 'Nitish': -9.984864881220346,\n",
       " 'Jharkhand': 0.9897313399110317,\n",
       " 'NEET results': 51.42240792576128,\n",
       " 'Armenia': -43.941301255356365,\n",
       " 'Lok Sabha Elections': 4.4017327560652575e-09,\n",
       " 'Sira': 27.274100875874865,\n",
       " 'Article 370': -5.554313821429666e-169,\n",
       " '#BiharResult': 1.0139027422669473,\n",
       " 'PM Kisan Yojana': -1.384595554627822,\n",
       " '#IPLUnacademyVideo': -5.554313821429666e-169,\n",
       " 'Chandrayaan 2': -0.9897515161580941,\n",
       " 'Owaisi': -1.9138574012486362,\n",
       " 'Sushil Modi': 0.5249752376919332,\n",
       " 'Captain Marvel': 0.39445066863179057,\n",
       " 'Mozambique': -4.058568328171769,\n",
       " 'Kabir Singh': 2.427742007427014e-08,\n",
       " '#Congress': -1.8121564819154514,\n",
       " 'Shikhar Dhawan': 36.52081623643906,\n",
       " 'Rona': -6.947469381993415,\n",
       " 'Starc': 10.838656243902733,\n",
       " 'Joker': -0.8335636861604314,\n",
       " 'Bihar Assembly': 95.00903878889221,\n",
       " 'Jaipur': 32.58965951735445,\n",
       " '#Bigil': 1.1220968300057108,\n",
       " 'Exit': 5.05525334547292,\n",
       " 'Cricket World Cup': 4.4017327560652575e-09,\n",
       " '#WorldScienceDay': -4.653739712635797,\n",
       " 'bighit': 43.92640655992727,\n",
       " 'Avengers: Endgame': 4.4017327560652575e-09,\n",
       " '#DubbakaBypolls': 201.50846523672226,\n",
       " '#IrandamKuththu': 134.28472854933352,\n",
       " 'Only 20%': -44.78049299009217,\n",
       " '#BoycottAmazon': 10.832351151090734,\n",
       " 'Mahagathbandhan': -8.604738466870526,\n",
       " 'Harbhajan Singh': -0.14666011580261085,\n",
       " '#MouseHunt': 4.364313532687699,\n",
       " 'Yogendra Yadav': -2.274562119334691,\n",
       " 'EVMs': 5.71092434449838,\n",
       " 'Burnol': -3.2788917942508586,\n",
       " 'good air movement': -92.5787763217043,\n",
       " '#BiharElectionResults': 47.06131940078194}"
      ]
     },
     "execution_count": 12,
     "metadata": {},
     "output_type": "execute_result"
    }
   ],
   "source": [
    "popularity"
   ]
  },
  {
   "cell_type": "code",
   "execution_count": 13,
   "metadata": {},
   "outputs": [],
   "source": [
    "popularity_db = pd.DataFrame(popularity.items())\n",
    "popularity_db.columns = ['title','popularity']"
   ]
  },
  {
   "cell_type": "code",
   "execution_count": 14,
   "metadata": {},
   "outputs": [],
   "source": [
    "scaler = MinMaxScaler()\n",
    "popularity_db['popularity'] = scaler.fit_transform(popularity_db['popularity'].values.reshape(-1,1))"
   ]
  },
  {
   "cell_type": "code",
   "execution_count": 15,
   "metadata": {},
   "outputs": [],
   "source": [
    "popularity_db.sort_values(by = 'popularity', ascending=False, inplace=True)\n",
    "\n",
    "popularity_db.reset_index(inplace=True)\n",
    "popularity_db['popularity'] = popularity_db['popularity']*100"
   ]
  },
  {
   "cell_type": "code",
   "execution_count": 16,
   "metadata": {},
   "outputs": [],
   "source": [
    "db_len = len(popularity_db)"
   ]
  },
  {
   "cell_type": "code",
   "execution_count": 17,
   "metadata": {},
   "outputs": [],
   "source": [
    "popularity_db = popularity_db[['title','popularity']]"
   ]
  },
  {
   "cell_type": "code",
   "execution_count": 18,
   "metadata": {},
   "outputs": [],
   "source": [
    "popularity_db.at[0, 'popularity'] = popularity_db.at[0, 'popularity'] - 1\n",
    "popularity_db.at[db_len-1, 'popularity'] = popularity_db.at[db_len-1, 'popularity'] + 1"
   ]
  },
  {
   "cell_type": "code",
   "execution_count": 19,
   "metadata": {},
   "outputs": [
    {
     "data": {
      "text/html": [
       "<div>\n",
       "<style scoped>\n",
       "    .dataframe tbody tr th:only-of-type {\n",
       "        vertical-align: middle;\n",
       "    }\n",
       "\n",
       "    .dataframe tbody tr th {\n",
       "        vertical-align: top;\n",
       "    }\n",
       "\n",
       "    .dataframe thead th {\n",
       "        text-align: right;\n",
       "    }\n",
       "</style>\n",
       "<table border=\"1\" class=\"dataframe\">\n",
       "  <thead>\n",
       "    <tr style=\"text-align: right;\">\n",
       "      <th></th>\n",
       "      <th>title</th>\n",
       "      <th>popularity</th>\n",
       "    </tr>\n",
       "  </thead>\n",
       "  <tbody>\n",
       "    <tr>\n",
       "      <th>0</th>\n",
       "      <td>#DubbakaBypolls</td>\n",
       "      <td>99.000000</td>\n",
       "    </tr>\n",
       "    <tr>\n",
       "      <th>1</th>\n",
       "      <td>#IrandamKuththu</td>\n",
       "      <td>77.141566</td>\n",
       "    </tr>\n",
       "    <tr>\n",
       "      <th>2</th>\n",
       "      <td>Bihar Assembly</td>\n",
       "      <td>63.786451</td>\n",
       "    </tr>\n",
       "    <tr>\n",
       "      <th>3</th>\n",
       "      <td>NEET results</td>\n",
       "      <td>48.965465</td>\n",
       "    </tr>\n",
       "    <tr>\n",
       "      <th>4</th>\n",
       "      <td>#BiharElectionResults</td>\n",
       "      <td>47.482541</td>\n",
       "    </tr>\n",
       "    <tr>\n",
       "      <th>5</th>\n",
       "      <td>bighit</td>\n",
       "      <td>46.416561</td>\n",
       "    </tr>\n",
       "    <tr>\n",
       "      <th>6</th>\n",
       "      <td>Shikhar Dhawan</td>\n",
       "      <td>43.898400</td>\n",
       "    </tr>\n",
       "    <tr>\n",
       "      <th>7</th>\n",
       "      <td>Jaipur</td>\n",
       "      <td>42.561668</td>\n",
       "    </tr>\n",
       "    <tr>\n",
       "      <th>8</th>\n",
       "      <td>Sira</td>\n",
       "      <td>40.754191</td>\n",
       "    </tr>\n",
       "    <tr>\n",
       "      <th>9</th>\n",
       "      <td>Starc</td>\n",
       "      <td>35.165562</td>\n",
       "    </tr>\n",
       "    <tr>\n",
       "      <th>10</th>\n",
       "      <td>#BoycottAmazon</td>\n",
       "      <td>35.163418</td>\n",
       "    </tr>\n",
       "    <tr>\n",
       "      <th>11</th>\n",
       "      <td>EVMs</td>\n",
       "      <td>33.421953</td>\n",
       "    </tr>\n",
       "    <tr>\n",
       "      <th>12</th>\n",
       "      <td>Exit</td>\n",
       "      <td>33.199002</td>\n",
       "    </tr>\n",
       "    <tr>\n",
       "      <th>13</th>\n",
       "      <td>#MouseHunt</td>\n",
       "      <td>32.964058</td>\n",
       "    </tr>\n",
       "    <tr>\n",
       "      <th>14</th>\n",
       "      <td>#Bigil</td>\n",
       "      <td>31.861591</td>\n",
       "    </tr>\n",
       "    <tr>\n",
       "      <th>15</th>\n",
       "      <td>#BiharResult</td>\n",
       "      <td>31.824801</td>\n",
       "    </tr>\n",
       "    <tr>\n",
       "      <th>16</th>\n",
       "      <td>Jharkhand</td>\n",
       "      <td>31.816582</td>\n",
       "    </tr>\n",
       "    <tr>\n",
       "      <th>17</th>\n",
       "      <td>Sushil Modi</td>\n",
       "      <td>31.658548</td>\n",
       "    </tr>\n",
       "    <tr>\n",
       "      <th>18</th>\n",
       "      <td>Captain Marvel</td>\n",
       "      <td>31.614165</td>\n",
       "    </tr>\n",
       "    <tr>\n",
       "      <th>19</th>\n",
       "      <td>Kabir Singh</td>\n",
       "      <td>31.480038</td>\n",
       "    </tr>\n",
       "    <tr>\n",
       "      <th>20</th>\n",
       "      <td>Avengers: Endgame</td>\n",
       "      <td>31.480038</td>\n",
       "    </tr>\n",
       "    <tr>\n",
       "      <th>21</th>\n",
       "      <td>Lok Sabha Elections</td>\n",
       "      <td>31.480038</td>\n",
       "    </tr>\n",
       "    <tr>\n",
       "      <th>22</th>\n",
       "      <td>Cricket World Cup</td>\n",
       "      <td>31.480038</td>\n",
       "    </tr>\n",
       "    <tr>\n",
       "      <th>23</th>\n",
       "      <td>#IPLUnacademyVideo</td>\n",
       "      <td>31.480038</td>\n",
       "    </tr>\n",
       "    <tr>\n",
       "      <th>24</th>\n",
       "      <td>Article 370</td>\n",
       "      <td>31.480038</td>\n",
       "    </tr>\n",
       "    <tr>\n",
       "      <th>25</th>\n",
       "      <td>Harbhajan Singh</td>\n",
       "      <td>31.430169</td>\n",
       "    </tr>\n",
       "    <tr>\n",
       "      <th>26</th>\n",
       "      <td>India Today</td>\n",
       "      <td>31.261390</td>\n",
       "    </tr>\n",
       "    <tr>\n",
       "      <th>27</th>\n",
       "      <td>Joker</td>\n",
       "      <td>31.196597</td>\n",
       "    </tr>\n",
       "    <tr>\n",
       "      <th>28</th>\n",
       "      <td>Chandrayaan 2</td>\n",
       "      <td>31.143488</td>\n",
       "    </tr>\n",
       "    <tr>\n",
       "      <th>29</th>\n",
       "      <td>PM Kisan Yojana</td>\n",
       "      <td>31.009227</td>\n",
       "    </tr>\n",
       "    <tr>\n",
       "      <th>30</th>\n",
       "      <td>#Congress</td>\n",
       "      <td>30.863841</td>\n",
       "    </tr>\n",
       "    <tr>\n",
       "      <th>31</th>\n",
       "      <td>Owaisi</td>\n",
       "      <td>30.829260</td>\n",
       "    </tr>\n",
       "    <tr>\n",
       "      <th>32</th>\n",
       "      <td>Yogendra Yadav</td>\n",
       "      <td>30.706607</td>\n",
       "    </tr>\n",
       "    <tr>\n",
       "      <th>33</th>\n",
       "      <td>Burnol</td>\n",
       "      <td>30.365100</td>\n",
       "    </tr>\n",
       "    <tr>\n",
       "      <th>34</th>\n",
       "      <td>NDTV</td>\n",
       "      <td>30.328554</td>\n",
       "    </tr>\n",
       "    <tr>\n",
       "      <th>35</th>\n",
       "      <td>Mozambique</td>\n",
       "      <td>30.099982</td>\n",
       "    </tr>\n",
       "    <tr>\n",
       "      <th>36</th>\n",
       "      <td>#WorldScienceDay</td>\n",
       "      <td>29.897603</td>\n",
       "    </tr>\n",
       "    <tr>\n",
       "      <th>37</th>\n",
       "      <td>Rona</td>\n",
       "      <td>29.117655</td>\n",
       "    </tr>\n",
       "    <tr>\n",
       "      <th>38</th>\n",
       "      <td>Mahagathbandhan</td>\n",
       "      <td>28.554125</td>\n",
       "    </tr>\n",
       "    <tr>\n",
       "      <th>39</th>\n",
       "      <td>Nitish</td>\n",
       "      <td>28.084833</td>\n",
       "    </tr>\n",
       "    <tr>\n",
       "      <th>40</th>\n",
       "      <td>Armenia</td>\n",
       "      <td>16.538451</td>\n",
       "    </tr>\n",
       "    <tr>\n",
       "      <th>41</th>\n",
       "      <td>Only 20%</td>\n",
       "      <td>16.253097</td>\n",
       "    </tr>\n",
       "    <tr>\n",
       "      <th>42</th>\n",
       "      <td>#BiharElections2020</td>\n",
       "      <td>14.557287</td>\n",
       "    </tr>\n",
       "    <tr>\n",
       "      <th>43</th>\n",
       "      <td>good air movement</td>\n",
       "      <td>1.000000</td>\n",
       "    </tr>\n",
       "  </tbody>\n",
       "</table>\n",
       "</div>"
      ],
      "text/plain": [
       "                    title  popularity\n",
       "0         #DubbakaBypolls   99.000000\n",
       "1         #IrandamKuththu   77.141566\n",
       "2          Bihar Assembly   63.786451\n",
       "3            NEET results   48.965465\n",
       "4   #BiharElectionResults   47.482541\n",
       "5                  bighit   46.416561\n",
       "6          Shikhar Dhawan   43.898400\n",
       "7                  Jaipur   42.561668\n",
       "8                    Sira   40.754191\n",
       "9                   Starc   35.165562\n",
       "10         #BoycottAmazon   35.163418\n",
       "11                   EVMs   33.421953\n",
       "12                   Exit   33.199002\n",
       "13             #MouseHunt   32.964058\n",
       "14                 #Bigil   31.861591\n",
       "15           #BiharResult   31.824801\n",
       "16              Jharkhand   31.816582\n",
       "17            Sushil Modi   31.658548\n",
       "18         Captain Marvel   31.614165\n",
       "19            Kabir Singh   31.480038\n",
       "20      Avengers: Endgame   31.480038\n",
       "21    Lok Sabha Elections   31.480038\n",
       "22      Cricket World Cup   31.480038\n",
       "23     #IPLUnacademyVideo   31.480038\n",
       "24            Article 370   31.480038\n",
       "25        Harbhajan Singh   31.430169\n",
       "26            India Today   31.261390\n",
       "27                  Joker   31.196597\n",
       "28          Chandrayaan 2   31.143488\n",
       "29        PM Kisan Yojana   31.009227\n",
       "30              #Congress   30.863841\n",
       "31                 Owaisi   30.829260\n",
       "32         Yogendra Yadav   30.706607\n",
       "33                 Burnol   30.365100\n",
       "34                   NDTV   30.328554\n",
       "35             Mozambique   30.099982\n",
       "36       #WorldScienceDay   29.897603\n",
       "37                   Rona   29.117655\n",
       "38        Mahagathbandhan   28.554125\n",
       "39                 Nitish   28.084833\n",
       "40                Armenia   16.538451\n",
       "41               Only 20%   16.253097\n",
       "42    #BiharElections2020   14.557287\n",
       "43      good air movement    1.000000"
      ]
     },
     "execution_count": 19,
     "metadata": {},
     "output_type": "execute_result"
    }
   ],
   "source": [
    "popularity_db"
   ]
  },
  {
   "cell_type": "code",
   "execution_count": 20,
   "metadata": {},
   "outputs": [],
   "source": [
    "popularity_db.to_pickle('step2_trendy_data.pkl')"
   ]
  },
  {
   "cell_type": "code",
   "execution_count": null,
   "metadata": {},
   "outputs": [],
   "source": []
  }
 ],
 "metadata": {
  "kernelspec": {
   "display_name": "Python 3",
   "language": "python",
   "name": "python3"
  },
  "language_info": {
   "codemirror_mode": {
    "name": "ipython",
    "version": 3
   },
   "file_extension": ".py",
   "mimetype": "text/x-python",
   "name": "python",
   "nbconvert_exporter": "python",
   "pygments_lexer": "ipython3",
   "version": "3.6.7"
  }
 },
 "nbformat": 4,
 "nbformat_minor": 4
}
