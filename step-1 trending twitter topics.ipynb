{
 "cells": [
  {
   "cell_type": "markdown",
   "metadata": {},
   "source": [
    "### 1. Find trending topics from twitter for given location"
   ]
  },
  {
   "cell_type": "code",
   "execution_count": 49,
   "metadata": {},
   "outputs": [],
   "source": [
    "from tweepy import OAuthHandler\n",
    "from tweepy import API\n",
    "\n",
    "consumer_key=\"WNxuoNZkT2YfX65mio3eAvf8f\"\n",
    "consumer_secret=\"QxhuS1xu6NxyfhiSErxTmhYgRgK8HupSPJzVhBWkSXIJEZ4hme\"\n",
    "access_token=\"1071084889154310145-qYXNlTJtyne6iqaaaRDipyYWMR7wyh\"\n",
    "access_token_secret=\"zjrmqthh0W7cYuVGjt7Uztgn6tgkzWZCUEhUob8m6CxKd\"\n",
    "\n",
    "# Consumer key authentication(consumer_key,consumer_secret can be collected from our twitter developer profile)\n",
    "auth = OAuthHandler(consumer_key, consumer_secret)\n",
    "\n",
    "# Access key authentication(access_token,access_token_secret can be collected from our twitter developer profile)\n",
    "auth.set_access_token(access_token, access_token_secret)\n",
    "\n",
    "# Set up the API with the authentication handler\n",
    "api = API(auth)"
   ]
  },
  {
   "cell_type": "code",
   "execution_count": 50,
   "metadata": {},
   "outputs": [],
   "source": [
    "WORLD_WOE_ID = 1\n",
    "US_WOE_ID = 23424977\n",
    "\n",
    "# Prefix ID with the underscore for query string parameterization.\n",
    "# Without the underscore, the twitter package appends the ID value\n",
    "# to the URL itself as a special case keyword argument.\n",
    "trends = api.trends_place(id=23424848)\n",
    "#us_trends = twitter_api.trends.place(_id=US_WOE_ID)"
   ]
  },
  {
   "cell_type": "code",
   "execution_count": 51,
   "metadata": {},
   "outputs": [],
   "source": [
    "trends = trends[0]['trends']\n"
   ]
  },
  {
   "cell_type": "code",
   "execution_count": 52,
   "metadata": {},
   "outputs": [],
   "source": [
    "topics =set()\n",
    "hashtags = set()\n",
    "for topic in trends:\n",
    "    #print(topic['name'])\n",
    "    #len(s) == len(s.encode())\n",
    "    if not len(topic['name']) == len(topic['name'].encode()):\n",
    "        continue\n",
    "    if topic['name'].startswith('#'):\n",
    "        hashtags.add(topic['name'])\n",
    "    else:\n",
    "        topics.add(topic['name'])\n"
   ]
  },
  {
   "cell_type": "code",
   "execution_count": 53,
   "metadata": {},
   "outputs": [
    {
     "data": {
      "text/plain": [
       "{'120hz fluid display',\n",
       " 'Alex Trebek',\n",
       " 'Alisson',\n",
       " 'Aston Villa',\n",
       " 'Bhuvi',\n",
       " 'Bobby',\n",
       " 'Cancelo',\n",
       " 'Delhi Capitals',\n",
       " 'Dhawan',\n",
       " 'Elneny',\n",
       " 'Finals',\n",
       " 'Firmino',\n",
       " 'Foden',\n",
       " 'Garg',\n",
       " 'Gomez',\n",
       " 'Grealish',\n",
       " 'Holder',\n",
       " 'Kane',\n",
       " 'Laca',\n",
       " 'Leicester',\n",
       " 'MI vs DC',\n",
       " 'Marcelo',\n",
       " 'Mumbai vs Delhi',\n",
       " 'Ponting',\n",
       " 'Rabada',\n",
       " 'Rashid',\n",
       " 'Rodri',\n",
       " 'Shreyas Iyer',\n",
       " 'Sterling',\n",
       " 'Stoinis',\n",
       " 'Tierney',\n",
       " 'Trent',\n",
       " 'Well Played',\n",
       " 'Willian',\n",
       " 'abdul samad',\n",
       " 'david warner',\n",
       " 'natarajan',\n",
       " 'taylor come back'}"
      ]
     },
     "execution_count": 53,
     "metadata": {},
     "output_type": "execute_result"
    }
   ],
   "source": [
    "topics"
   ]
  },
  {
   "cell_type": "code",
   "execution_count": 54,
   "metadata": {},
   "outputs": [
    {
     "data": {
      "text/plain": [
       "{'#13YearsOfOmShantiOm',\n",
       " '#ARSAVL',\n",
       " '#AmazonSpecials',\n",
       " '#DCvSRH',\n",
       " '#JudaiyaanAlbumOutNow',\n",
       " '#MCILIV',\n",
       " '#MTVEMA',\n",
       " '#OrangeArmy',\n",
       " '#SureshChakravarthi',\n",
       " '#YehHaiNayiDilli',\n",
       " '#boycotttanishq'}"
      ]
     },
     "execution_count": 54,
     "metadata": {},
     "output_type": "execute_result"
    }
   ],
   "source": [
    "hashtags"
   ]
  },
  {
   "cell_type": "code",
   "execution_count": null,
   "metadata": {},
   "outputs": [],
   "source": []
  }
 ],
 "metadata": {
  "kernelspec": {
   "display_name": "Python 3",
   "language": "python",
   "name": "python3"
  },
  "language_info": {
   "codemirror_mode": {
    "name": "ipython",
    "version": 3
   },
   "file_extension": ".py",
   "mimetype": "text/x-python",
   "name": "python",
   "nbconvert_exporter": "python",
   "pygments_lexer": "ipython3",
   "version": "3.6.7"
  }
 },
 "nbformat": 4,
 "nbformat_minor": 4
}
