{
 "cells": [
  {
   "cell_type": "markdown",
   "metadata": {},
   "source": [
    "### 1. Find trending topics from twitter for given location"
   ]
  },
  {
   "cell_type": "code",
   "execution_count": 7,
   "metadata": {},
   "outputs": [],
   "source": [
    "from tweepy import OAuthHandler\n",
    "from tweepy import API\n",
    "\n",
    "consumer_key=\"WNxuoNZkT2YfX65mio3eAvf8f\"\n",
    "consumer_secret=\"QxhuS1xu6NxyfhiSErxTmhYgRgK8HupSPJzVhBWkSXIJEZ4hme\"\n",
    "access_token=\"1071084889154310145-qYXNlTJtyne6iqaaaRDipyYWMR7wyh\"\n",
    "access_token_secret=\"zjrmqthh0W7cYuVGjt7Uztgn6tgkzWZCUEhUob8m6CxKd\"\n",
    "\n",
    "# Consumer key authentication(consumer_key,consumer_secret can be collected from our twitter developer profile)\n",
    "auth = OAuthHandler(consumer_key, consumer_secret)\n",
    "\n",
    "# Access key authentication(access_token,access_token_secret can be collected from our twitter developer profile)\n",
    "auth.set_access_token(access_token, access_token_secret)\n",
    "\n",
    "# Set up the API with the authentication handler\n",
    "api = API(auth)"
   ]
  },
  {
   "cell_type": "code",
   "execution_count": 8,
   "metadata": {},
   "outputs": [],
   "source": [
    "WORLD_WOE_ID = 1\n",
    "US_WOE_ID = 23424977\n",
    "\n",
    "# Prefix ID with the underscore for query string parameterization.\n",
    "# Without the underscore, the twitter package appends the ID value\n",
    "# to the URL itself as a special case keyword argument.\n",
    "trends = api.trends_place(id=23424848)\n",
    "#us_trends = twitter_api.trends.place(_id=US_WOE_ID)"
   ]
  },
  {
   "cell_type": "code",
   "execution_count": 9,
   "metadata": {},
   "outputs": [],
   "source": [
    "trends = trends[0]['trends']\n"
   ]
  },
  {
   "cell_type": "code",
   "execution_count": 10,
   "metadata": {},
   "outputs": [],
   "source": [
    "topics =set()\n",
    "hashtags = set()\n",
    "for topic in trends:\n",
    "    #print(topic['name'])\n",
    "    #len(s) == len(s.encode())\n",
    "    if not len(topic['name']) == len(topic['name'].encode()):\n",
    "        continue\n",
    "    if topic['name'].startswith('#'):\n",
    "        hashtags.add(topic['name'])\n",
    "    else:\n",
    "        topics.add(topic['name'])\n"
   ]
  },
  {
   "cell_type": "code",
   "execution_count": 13,
   "metadata": {},
   "outputs": [
    {
     "data": {
      "text/plain": [
       "{'#1YearOfITABestJodiAshDeep',\n",
       " '#BJPSweepsGujarat',\n",
       " '#Bigil',\n",
       " '#BiharElectionResults',\n",
       " '#BiharElections2020',\n",
       " '#BiharResult',\n",
       " '#BoycottAmazon',\n",
       " '#Congress',\n",
       " '#DubbakaBypolls',\n",
       " '#IPLUnacademyVideo',\n",
       " '#IPLfinal',\n",
       " '#IrandamKuththu',\n",
       " '#MIvsDC',\n",
       " '#MadhyaPradeshbyelection',\n",
       " '#MouseHunt',\n",
       " '#PhotoThaakku',\n",
       " '#PushpaRajHuntBegins',\n",
       " '#ReleaseArnabVoiceOfSSR',\n",
       " '#TescoMealDeal',\n",
       " '#WorldScienceDay',\n",
       " '#ganapath',\n",
       " '#pspk27',\n",
       " '#tuesdayvibe'}"
      ]
     },
     "execution_count": 13,
     "metadata": {},
     "output_type": "execute_result"
    }
   ],
   "source": [
    "hashtags"
   ]
  },
  {
   "cell_type": "code",
   "execution_count": 14,
   "metadata": {},
   "outputs": [
    {
     "data": {
      "text/plain": [
       "{'Armenia',\n",
       " 'Bihar Assembly',\n",
       " 'Burnol',\n",
       " 'EVMs',\n",
       " 'Exit',\n",
       " 'Harbhajan Singh',\n",
       " 'IK NO DI CHEEZ',\n",
       " 'India Today',\n",
       " 'Jaipur',\n",
       " 'Jharkhand',\n",
       " 'Mahagathbandhan',\n",
       " 'Mozambique',\n",
       " 'NDTV',\n",
       " 'Nitish',\n",
       " 'Only 20%',\n",
       " 'Owaisi',\n",
       " 'Rona',\n",
       " 'Shikhar Dhawan',\n",
       " 'SidNaaz Craze',\n",
       " 'Sira',\n",
       " 'Starc',\n",
       " 'Sushil Modi',\n",
       " 'Yogendra Yadav',\n",
       " 'bighit',\n",
       " 'good air movement'}"
      ]
     },
     "execution_count": 14,
     "metadata": {},
     "output_type": "execute_result"
    }
   ],
   "source": [
    "topics"
   ]
  },
  {
   "cell_type": "code",
   "execution_count": null,
   "metadata": {},
   "outputs": [],
   "source": []
  }
 ],
 "metadata": {
  "kernelspec": {
   "display_name": "Python 3",
   "language": "python",
   "name": "python3"
  },
  "language_info": {
   "codemirror_mode": {
    "name": "ipython",
    "version": 3
   },
   "file_extension": ".py",
   "mimetype": "text/x-python",
   "name": "python",
   "nbconvert_exporter": "python",
   "pygments_lexer": "ipython3",
   "version": "3.6.7"
  }
 },
 "nbformat": 4,
 "nbformat_minor": 4
}
