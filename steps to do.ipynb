{
 "cells": [
  {
   "cell_type": "markdown",
   "metadata": {},
   "source": [
    "### Steps\n",
    "\n",
    "##### 1. Find trending topics from twitter for given location\n",
    "##### 2. Find the interest over time for the topic from trends\n",
    "##### 3. Find regions of interest, related topics, type from google trends\n",
    "##### 4. Find tweets, reddit posts and their comments about each topic\n",
    "##### 5. Run Sentiment Analysis on the extracted text along with post statistics\n",
    "##### 6. Find Hashtags, Named Entities, Text with emojis etc from extracted text for text cues\n",
    "##### 7. Find popularity metrics for found text cues and filter\n"
   ]
  },
  {
   "cell_type": "code",
   "execution_count": 1,
   "metadata": {},
   "outputs": [],
   "source": [
    "#https://towardsdatascience.com/twitter-trends-analysis-using-python-fc78146f2f72"
   ]
  },
  {
   "cell_type": "code",
   "execution_count": null,
   "metadata": {},
   "outputs": [],
   "source": []
  }
 ],
 "metadata": {
  "kernelspec": {
   "display_name": "Python 3",
   "language": "python",
   "name": "python3"
  },
  "language_info": {
   "codemirror_mode": {
    "name": "ipython",
    "version": 3
   },
   "file_extension": ".py",
   "mimetype": "text/x-python",
   "name": "python",
   "nbconvert_exporter": "python",
   "pygments_lexer": "ipython3",
   "version": "3.6.7"
  }
 },
 "nbformat": 4,
 "nbformat_minor": 4
}
